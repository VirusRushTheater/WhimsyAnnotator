{
 "cells": [
  {
   "cell_type": "code",
   "execution_count": 1,
   "id": "f0189d7c-4f3b-45fc-8b03-de72f5e233a8",
   "metadata": {},
   "outputs": [],
   "source": [
    "%load_ext ipyreact"
   ]
  },
  {
   "cell_type": "code",
   "execution_count": 2,
   "id": "a9265a0f-12a0-4e92-938d-9e0ffc354274",
   "metadata": {},
   "outputs": [
    {
     "name": "stdout",
     "output_type": "stream",
     "text": [
      "{'xmlns': 'http://www.w3.org/2000/svg', 'height': '1em', 'viewBox': '0 0 512 512', 'd': 'M416 208c0 45.9-14.9 88.3-40 122.7L502.6 457.4c12.5 12.5 12.5 32.8 0 45.3s-32.8 12.5-45.3 0L330.7 376c-34.4 25.2-76.8 40-122.7 40C93.1 416 0 322.9 0 208S93.1 0 208 0S416 93.1 416 208zM136 184c-13.3 0-24 10.7-24 24s10.7 24 24 24H280c13.3 0 24-10.7 24-24s-10.7-24-24-24H136z'}\n"
     ]
    }
   ],
   "source": [
    "# To convert FontAwesome icons into API icons.\n",
    "\n",
    "import xml.etree.ElementTree as ET\n",
    "\n",
    "svg_string = \"\"\"\n",
    "<svg xmlns=\"http://www.w3.org/2000/svg\" height=\"1em\" viewBox=\"0 0 512 512\"><path d=\"M416 208c0 45.9-14.9 88.3-40 122.7L502.6 457.4c12.5 12.5 12.5 32.8 0 45.3s-32.8 12.5-45.3 0L330.7 376c-34.4 25.2-76.8 40-122.7 40C93.1 416 0 322.9 0 208S93.1 0 208 0S416 93.1 416 208zM136 184c-13.3 0-24 10.7-24 24s10.7 24 24 24H280c13.3 0 24-10.7 24-24s-10.7-24-24-24H136z\"/></svg>\n",
    "\"\"\"\n",
    "\n",
    "root = ET.fromstring(svg_string)\n",
    "path = root.find(\"svg:path\", {'svg': 'http://www.w3.org/2000/svg'})\n",
    "print({\"xmlns\": \"http://www.w3.org/2000/svg\", **root.attrib, **path.attrib})\n"
   ]
  },
  {
   "cell_type": "code",
   "execution_count": 3,
   "id": "4a2ea2c1-e0b3-4a9a-8b25-9fa17a7c98c6",
   "metadata": {},
   "outputs": [
    {
     "data": {
      "text/html": [
       "<style>.ann-container0 {\n",
       "    display: flex;\n",
       "    position: relative;\n",
       "    background-color: cyan;\n",
       "    width: 100%;\n",
       "    height: 600px;\n",
       "    min-height: 350px;\n",
       "    overflow: hidden;\n",
       "}\n",
       "\n",
       ".ann-container1 {\n",
       "    flex-grow: 1;\n",
       "    position: relative;\n",
       "}\n",
       "\n",
       ".ann-container2a {\n",
       "    position: absolute;\n",
       "    left: 0; right: 0; top: 0; bottom: 0;\n",
       "}\n",
       ".ann-container2r {\n",
       "    position: absolute;\n",
       "    top: 50%;\n",
       "    left: 50%;\n",
       "    transform: translate(-50%, -50%);\n",
       "}\n",
       "\n",
       ".toolbox {\n",
       "    display: flex;\n",
       "    flex-direction: column;\n",
       "    \n",
       "    width: 180px;\n",
       "    height: 100%;\n",
       "}\n",
       "\n",
       ".toolbox-row {\n",
       "    display: flex;\n",
       "    flex-direction: row;\n",
       "    width: 100%;\n",
       "}\n",
       "\n",
       ".toolbox-imgcounter {\n",
       "    text-align: center;\n",
       "    display: block;\n",
       "    height: 60px;\n",
       "}\n",
       "\n",
       ".toolbox-imgcounter h2 {\n",
       "    margin: 0;\n",
       "}\n",
       ".toolbox-imgcounter h4 {\n",
       "    margin: 0.3em;\n",
       "    max-height: 1.2em;\n",
       "    overflow: hidden;\n",
       "}\n",
       "\n",
       ".toolbox-container3 {\n",
       "    display: flex;\n",
       "    flex-direction: row;\n",
       "    width: 100%;\n",
       "    flex-grow: 1;\n",
       "}\n",
       "\n",
       ".toolbox-btn4 {\n",
       "    flex-grow: 1;\n",
       "}\n",
       "\n",
       ".toolbox-btn4 svg {\n",
       "    width: 60%;\n",
       "    height: 60%;\n",
       "}\n",
       "\n",
       ".border1 {border: 1px dashed blue;}\n",
       ".border2 {border: 1px dashed red;}\n",
       ".border3 {border: 1px dashed green;}\n",
       ".border4 {border: 1px dashed magenta;}\n",
       ".border5 {border: 1px dashed cyan;}\n",
       ".border6 {border: 1px dashed orange;}</style>"
      ],
      "text/plain": [
       "<IPython.core.display.HTML object>"
      ]
     },
     "metadata": {},
     "output_type": "display_data"
    },
    {
     "data": {
      "application/vnd.jupyter.widget-view+json": {
       "model_id": "387b0210669048a5bdfda2d429fa303e",
       "version_major": 2,
       "version_minor": 0
      },
      "text/plain": [
       "WhimsyAnnotator(annotations=[{'x': 0.2, 'y': 0.1, 'w': 0.5, 'h': 0.5, 'confidence': None, 'type': 'gt', 'label…"
      ]
     },
     "execution_count": 3,
     "metadata": {},
     "output_type": "execute_result"
    }
   ],
   "source": [
    "import ipyreact\n",
    "import sqlalchemy\n",
    "import uuid\n",
    "import glob\n",
    "import os\n",
    "import pathlib\n",
    "import pandas\n",
    "import mimetypes\n",
    "import traitlets\n",
    "from PIL import Image as PIL_Image\n",
    "from IPython.display import display, HTML\n",
    "\n",
    "class WhimsyAnnotator(ipyreact.ReactWidget):\n",
    "    img_path = traitlets.Unicode().tag(sync=True)\n",
    "    img_mimetype = traitlets.Unicode(\"\").tag(sync=True)\n",
    "    img_data = traitlets.Bytes().tag(sync=True)\n",
    "    img_w = traitlets.Int(1).tag(sync=True)\n",
    "    img_h = traitlets.Int(1).tag(sync=True)\n",
    "\n",
    "    labels = traitlets.List().tag(sync=True)\n",
    "    annotations = traitlets.List().tag(sync=True)\n",
    "\n",
    "    @traitlets.observe(\"annotations\")\n",
    "    def onAnnotationsChange(self, change):\n",
    "        pass\n",
    "    \n",
    "    def __init__(self, **kwargs):\n",
    "        super(type(self), self).__init__(**kwargs)\n",
    "\n",
    "        self.labels = [\"red\", \"blue\", \"green\", \"yellow\"]\n",
    "        self.annotations = [\n",
    "            {\"x\": 0.2, \"y\": 0.1, \"w\": 0.5, \"h\": 0.5, \"confidence\": None, \"type\": \"gt\", \"label\": \"blue\", \"uuid\": \"05823aca-7d8b-4a40-a2a2-076cf29bc464\"},\n",
    "            {\"x\": 0.0, \"y\": 0.1, \"w\": 0.1, \"h\": 0.6, \"confidence\": None, \"type\": \"gt\", \"label\": \"red\", \"uuid\": \"2c052daa-799b-495a-a90c-86c3a30823fe\"},\n",
    "            {\"x\": 0.5, \"y\": 0.3, \"w\": 0.3, \"h\": 0.4, \"confidence\": None, \"type\": \"gt\", \"label\": \"green\", \"uuid\": \"4cf76cf0-4f8c-4eea-bc2a-488942613c70\"}\n",
    "        ]\n",
    "\n",
    "    def loadFile(self, filepath):\n",
    "        file_as_path = pathlib.Path(filepath)\n",
    "        assert file_as_path.is_file()\n",
    "        self.img_path = file_as_path.absolute().as_posix()\n",
    "        self.img_mimetype = mimetypes.guess_type(file_as_path)[0]\n",
    "        self.img_data = file_as_path.read_bytes()\n",
    "        imgdetails = PIL_Image.open(file_as_path)\n",
    "        self.img_w, self.img_h = imgdetails.size\n",
    "        imgdetails.close()\n",
    "    \n",
    "    _esm = pathlib.Path(\"whimsy.js\")\n",
    "    _css = pathlib.Path(\"whimsy.css\").read_text()\n",
    "\n",
    "display(HTML(\"<style>\" + WhimsyAnnotator._css + \"</style>\"))\n",
    "\n",
    "w = WhimsyAnnotator()\n",
    "w\n"
   ]
  },
  {
   "cell_type": "code",
   "execution_count": 4,
   "id": "516bd21a-4673-4d96-8309-0115297c5f26",
   "metadata": {},
   "outputs": [],
   "source": [
    "w.loadFile(\"sans_mortadela.jpg\")"
   ]
  },
  {
   "cell_type": "code",
   "execution_count": null,
   "id": "f674d6a0-0fb5-4804-aa42-d7c3e77660d7",
   "metadata": {},
   "outputs": [],
   "source": []
  }
 ],
 "metadata": {
  "kernelspec": {
   "display_name": "Default kernel",
   "language": "python",
   "name": "python3"
  },
  "language_info": {
   "codemirror_mode": {
    "name": "ipython",
    "version": 3
   },
   "file_extension": ".py",
   "mimetype": "text/x-python",
   "name": "python",
   "nbconvert_exporter": "python",
   "pygments_lexer": "ipython3",
   "version": "3.10.6"
  }
 },
 "nbformat": 4,
 "nbformat_minor": 5
}
